{
 "cells": [
  {
   "cell_type": "markdown",
   "metadata": {},
   "source": [
    "######################################################\n",
    "\n",
    "Done By: Sowmya J Iyer\n",
    "######################################################"
   ]
  },
  {
   "cell_type": "markdown",
   "metadata": {},
   "source": [
    "# The first page of coursera parsed and saved in a csv file\n",
    "\n",
    "## Includes:\n",
    "- Course Title\n",
    "- Course Organization \n",
    "- Course URL \n",
    "- Course Certificate Type \n",
    "- Course Rating \n",
    "- Course Difficulty \n",
    "- Course Students Enrolled \n",
    "- Course Image URL \n",
    "- Image name\n",
    "- Course skills gained\n",
    "- Course instructor\n",
    "- Courses in the certification"
   ]
  },
  {
   "cell_type": "code",
   "execution_count": 25,
   "metadata": {},
   "outputs": [],
   "source": [
    "from bs4 import BeautifulSoup\n",
    "import requests\n",
    "import os\n",
    "import pandas as pd\n",
    "\n",
    "response = requests.get(\"https://www.coursera.org/courses\")\n",
    "html_soup = BeautifulSoup(response.content, 'html.parser')\n",
    "url = html_soup.find_all(href=True)"
   ]
  },
  {
   "cell_type": "code",
   "execution_count": 26,
   "metadata": {},
   "outputs": [],
   "source": [
    "course_title = []\n",
    "course_organization = []\n",
    "course_URL =[]\n",
    "course_Certificate_type = []\n",
    "course_rating = []\n",
    "course_difficulty = []\n",
    "course_students_enrolled = []\n",
    "course_image_URL = []\n",
    "course_image_name=[]"
   ]
  },
  {
   "cell_type": "code",
   "execution_count": 22,
   "metadata": {},
   "outputs": [],
   "source": [
    "def auto_scrape(j,html_tag,class_tag,course_item):\n",
    "    bsoup = soup.find_all(html_tag, class_ = class_tag)[j].get_text()\n",
    "    if bsoup is None:\n",
    "        course_item.append(\"None\")\n",
    "    else:\n",
    "        course_item.append(bsoup)\n",
    "def auto_scrape_imgURL(j,html_tag,class_tag,course_url_item,course_url_name):\n",
    "    x_div = soup.find_all('img', class_ =\"product-photo\")[j]\n",
    "    if x_div is None:\n",
    "        course_url_item.append(\"None\")\n",
    "        course_url_name.append(\"None\")\n",
    "    else:\n",
    "        course_url_item.append(x_div.get('src'))\n",
    "        course_url_name.append(x_div.get('alt'))\n",
    "def auto_scrape_URL(j,html_tag,class_tag,course_item):\n",
    "    cu= soup.find_all(\"a\", class_='rc-DesktopSearchCard anchor-wrapper')[j]\n",
    "    if cu is None:\n",
    "        course_item.append(\"None\")\n",
    "    else:\n",
    "        course_URL.append(\"https:/www.coursera.org/\"+ cu.get('href'))\n",
    "    "
   ]
  },
  {
   "cell_type": "code",
   "execution_count": 6,
   "metadata": {},
   "outputs": [],
   "source": []
  },
  {
   "cell_type": "code",
   "execution_count": 27,
   "metadata": {},
   "outputs": [],
   "source": [
    "#to scrape all search results\n",
    "for i in range(1,100):\n",
    "    url = \"https://www.coursera.org/courses?page=\" +str(i) + \"&index=prod_all_products_term_optimization\"\n",
    "    page = requests.get(url)\n",
    "    soup = BeautifulSoup(page.content, 'html.parser')\n",
    "    for j in range(0,9):\n",
    "        #course-title\n",
    "        ct = soup.find_all('h2', class_ =\"color-primary-text card-title headline-1-text\")[j].get_text()\n",
    "        course_title.append(ct)\n",
    "        \n",
    "        #organisation offering the course\n",
    "        co = soup.find_all('span', class_ = 'partner-name m-b-1s')[j].get_text()\n",
    "        course_organization.append(co)\n",
    "        \n",
    "        #URL of the course\n",
    "        cu= soup.find_all(\"a\", class_='rc-DesktopSearchCard anchor-wrapper')[j]\n",
    "        course_URL.append(\"https://www.coursera.org\"+ cu.get('href'))\n",
    "        \n",
    "        #course certificate type- specialization or certification\n",
    "        cc= soup.find_all('div', class_='_jen3vs _1d8rgfy3')[j].get_text()\n",
    "        course_Certificate_type.append(cc)\n",
    "        \n",
    "        #course-rating\n",
    "        cr=soup.find_all('div', class_ = \"rating-enroll-wrapper\")[j]\n",
    "        x_div=cr.find('span',class_=\"ratings-text\")\n",
    "        if x_div is None:\n",
    "            course_rating.append(\"None\")\n",
    "        else:        \n",
    "            course_rating.append(x_div.get_text())\n",
    "            \n",
    "        #course-difficulty\n",
    "        cd= soup.find_all('span',class_='difficulty')[j].get_text()\n",
    "        course_difficulty.append(cd)\n",
    "        \n",
    "        #course-enrolled number\n",
    "        ce=soup.find_all('div', class_ = \"rating-enroll-wrapper\")[j]\n",
    "        xe_div=ce.find('span',class_='enrollment-number')\n",
    "        if xe_div is None:\n",
    "            course_students_enrolled.append(\"None\")\n",
    "        else:        \n",
    "            course_students_enrolled.append(xe_div.get_text())\n",
    "        \n",
    "        #course-image URL and name\n",
    "        x_div = soup.find_all('img', class_ =\"product-photo\")[j]\n",
    "        course_image_URL.append(x_div.get('src'))\n",
    "        course_image_name.append(x_div.get('alt'))\n",
    "        \n",
    "\n",
    "#creating a dataframe gathering the list\n",
    "coursera_df = pd.DataFrame({'course_title': course_title,\n",
    "                   'course_URL':course_URL,\n",
    "                  'course_organization': course_organization,\n",
    "                  'course_Certificate_type': course_Certificate_type,\n",
    "                  'course_rating':course_rating,\n",
    "                   'course_difficulty':course_difficulty,\n",
    "                   'course_students_enrolled':course_students_enrolled,\n",
    "                    'course_icon':course_image_URL,\n",
    "                  'image_name':course_image_name})\n",
    "\n",
    "#writing into a .csv file\n",
    "coursera_df.to_csv('Coursera_catalog.csv')\n"
   ]
  },
  {
   "cell_type": "code",
   "execution_count": 212,
   "metadata": {},
   "outputs": [],
   "source": [
    "course_skills=[]\n",
    "skills = []\n",
    "course_top_instructor=[]\n",
    "sub_course_list=[]\n",
    "course_list=[]"
   ]
  },
  {
   "cell_type": "code",
   "execution_count": 213,
   "metadata": {},
   "outputs": [],
   "source": [
    "# getting course info\n",
    "for urlC in course_URL:\n",
    "    page_course = requests.get(urlC)\n",
    "    soup_course = BeautifulSoup(page_course.content, 'html.parser')\n",
    "# print(soup.prettify())\n",
    "    skills= [x.get_text() for x in soup_course.find_all('span', class_ = '_rsc0bd m-r-1s m-b-1s')]\n",
    "    course_skills.append(skills)\n",
    "    skills=[]\n",
    "    instructor= soup_course.find('h3', class_ = 'instructor-name headline-3-text bold')\n",
    "    if instructor is None:\n",
    "        course_top_instructor.append(\"None\")\n",
    "    else:\n",
    "        course_top_instructor.append(instructor.get_text()[:-14])\n",
    "    cl= soup_course.find_all('div', class_ = '_jyhj5r CourseItem')\n",
    "    for c in cl:\n",
    "        course_number=c.find('span',class_=\"_1nc68rjl text-secondary d-block m-y-1\").get_text()\n",
    "        course_title=c.find('h3',class_=\"headline-3-text bold m-t-1 m-b-2\").get_text()\n",
    "        course_list.append(course_number)\n",
    "        course_list.append(course_title)\n",
    "    sub_course_list.append(course_list)\n",
    "    course_list=[]"
   ]
  },
  {
   "cell_type": "code",
   "execution_count": 214,
   "metadata": {},
   "outputs": [
    {
     "name": "stdout",
     "output_type": "stream",
     "text": [
      "[['Binary Code', 'Customer Support', 'Linux', 'Troubleshooting', 'Domain Name System (DNS)', 'Ipv4', 'Network Model', 'Powershell', 'Linux File Systems', 'Command-Line Interface', 'Directory Service', 'Lightweight Directory Access Protocol (LDAP)'], ['Data Science', 'Statistical Analysis', 'Machine Learning', 'Python Programming', 'Business Intelligence', 'Data Analysis', 'Pandas', 'Numpy', 'Cloud Databases', 'Ipython', 'Relational Database Management System (RDBMS)', 'SQL'], ['Data Science', 'Relational Database Management System (RDBMS)', 'Cloud Databases', 'Python Programming', 'SQL', 'Ipython'], ['Json', 'Xml', 'Python Programming', 'Database (DBMS)', 'Python Syntax And Semantics', 'Basic Programming Language', 'Computer Programming', 'Data Structure', 'Tuple', 'Web Scraping', 'Sqlite', 'SQL'], ['Tensorflow', 'Convolutional Neural Network', 'Artificial Neural Network', 'Deep Learning', 'Backpropagation', 'Python Programming', 'Hyperparameter', 'Hyperparameter Optimization', 'Machine Learning', 'Inductive Transfer', 'Multi-Task Learning', 'Facial Recognition System']]\n",
      "891\n"
     ]
    }
   ],
   "source": [
    "print(course_skills[:5])\n",
    "print(len(course_skills))"
   ]
  },
  {
   "cell_type": "code",
   "execution_count": 215,
   "metadata": {},
   "outputs": [],
   "source": [
    "coursera_df['course_skills']=course_skills\n",
    "coursera_df['course_top_instructor']=course_top_instructor\n",
    "coursera_df['sub_course_list']=sub_course_list"
   ]
  },
  {
   "cell_type": "code",
   "execution_count": 216,
   "metadata": {},
   "outputs": [
    {
     "data": {
      "text/html": [
       "<div>\n",
       "<style scoped>\n",
       "    .dataframe tbody tr th:only-of-type {\n",
       "        vertical-align: middle;\n",
       "    }\n",
       "\n",
       "    .dataframe tbody tr th {\n",
       "        vertical-align: top;\n",
       "    }\n",
       "\n",
       "    .dataframe thead th {\n",
       "        text-align: right;\n",
       "    }\n",
       "</style>\n",
       "<table border=\"1\" class=\"dataframe\">\n",
       "  <thead>\n",
       "    <tr style=\"text-align: right;\">\n",
       "      <th></th>\n",
       "      <th>course_title</th>\n",
       "      <th>course_URL</th>\n",
       "      <th>course_organization</th>\n",
       "      <th>course_Certificate_type</th>\n",
       "      <th>course_rating</th>\n",
       "      <th>course_difficulty</th>\n",
       "      <th>course_students_enrolled</th>\n",
       "      <th>course_icon</th>\n",
       "      <th>image_name</th>\n",
       "      <th>course_skills</th>\n",
       "      <th>course_top_instructor</th>\n",
       "      <th>sub_course_list</th>\n",
       "    </tr>\n",
       "  </thead>\n",
       "  <tbody>\n",
       "    <tr>\n",
       "      <th>0</th>\n",
       "      <td>Google IT Support</td>\n",
       "      <td>https://www.coursera.org/professional-certific...</td>\n",
       "      <td>Google</td>\n",
       "      <td>PROFESSIONAL CERTIFICATE</td>\n",
       "      <td>4.8</td>\n",
       "      <td>Beginner</td>\n",
       "      <td>610k</td>\n",
       "      <td>https://d3njjcbhbojbot.cloudfront.net/api/util...</td>\n",
       "      <td>Google IT Support by Google</td>\n",
       "      <td>[Binary Code, Customer Support, Linux, Trouble...</td>\n",
       "      <td>Google</td>\n",
       "      <td>[1, Technical Support Fundamentals, 2, The Bit...</td>\n",
       "    </tr>\n",
       "    <tr>\n",
       "      <th>1</th>\n",
       "      <td>IBM Data Science</td>\n",
       "      <td>https://www.coursera.org/professional-certific...</td>\n",
       "      <td>IBM</td>\n",
       "      <td>PROFESSIONAL CERTIFICATE</td>\n",
       "      <td>4.6</td>\n",
       "      <td>Beginner</td>\n",
       "      <td>640k</td>\n",
       "      <td>https://d3njjcbhbojbot.cloudfront.net/api/util...</td>\n",
       "      <td>IBM Data Science by IBM</td>\n",
       "      <td>[Data Science, Statistical Analysis, Machine L...</td>\n",
       "      <td></td>\n",
       "      <td>[1, What is Data Science? , 2, Tools for Data ...</td>\n",
       "    </tr>\n",
       "    <tr>\n",
       "      <th>2</th>\n",
       "      <td>Introduction to Data Science</td>\n",
       "      <td>https://www.coursera.org/specializations/intro...</td>\n",
       "      <td>IBM</td>\n",
       "      <td>SPECIALIZATION</td>\n",
       "      <td>4.6</td>\n",
       "      <td>Beginner</td>\n",
       "      <td>410k</td>\n",
       "      <td>https://d3njjcbhbojbot.cloudfront.net/api/util...</td>\n",
       "      <td>Introduction to Data Science by IBM</td>\n",
       "      <td>[Data Science, Relational Database Management ...</td>\n",
       "      <td></td>\n",
       "      <td>[1, What is Data Science? , 2, Tools for Data ...</td>\n",
       "    </tr>\n",
       "    <tr>\n",
       "      <th>3</th>\n",
       "      <td>Python for Everybody</td>\n",
       "      <td>https://www.coursera.org/specializations/python</td>\n",
       "      <td>University of Michigan</td>\n",
       "      <td>SPECIALIZATION</td>\n",
       "      <td>4.8</td>\n",
       "      <td>Beginner</td>\n",
       "      <td>2m</td>\n",
       "      <td>https://d3njjcbhbojbot.cloudfront.net/api/util...</td>\n",
       "      <td>Python for Everybody by University of Michigan</td>\n",
       "      <td>[Json, Xml, Python Programming, Database (DBMS...</td>\n",
       "      <td>Charles Rus</td>\n",
       "      <td>[1, Programming for Everybody (Getting Started...</td>\n",
       "    </tr>\n",
       "    <tr>\n",
       "      <th>4</th>\n",
       "      <td>Deep Learning</td>\n",
       "      <td>https://www.coursera.org/specializations/deep-...</td>\n",
       "      <td>deeplearning.ai</td>\n",
       "      <td>SPECIALIZATION</td>\n",
       "      <td>4.8</td>\n",
       "      <td>Intermediate</td>\n",
       "      <td>890k</td>\n",
       "      <td>https://d3njjcbhbojbot.cloudfront.net/api/util...</td>\n",
       "      <td>Deep Learning by deeplearning.ai</td>\n",
       "      <td>[Tensorflow, Convolutional Neural Network, Art...</td>\n",
       "      <td>Andrew Ng</td>\n",
       "      <td>[1, Neural Networks and Deep Learning, 2, Impr...</td>\n",
       "    </tr>\n",
       "  </tbody>\n",
       "</table>\n",
       "</div>"
      ],
      "text/plain": [
       "                   course_title  \\\n",
       "0             Google IT Support   \n",
       "1              IBM Data Science   \n",
       "2  Introduction to Data Science   \n",
       "3          Python for Everybody   \n",
       "4                 Deep Learning   \n",
       "\n",
       "                                          course_URL     course_organization  \\\n",
       "0  https://www.coursera.org/professional-certific...                  Google   \n",
       "1  https://www.coursera.org/professional-certific...                     IBM   \n",
       "2  https://www.coursera.org/specializations/intro...                     IBM   \n",
       "3    https://www.coursera.org/specializations/python  University of Michigan   \n",
       "4  https://www.coursera.org/specializations/deep-...         deeplearning.ai   \n",
       "\n",
       "    course_Certificate_type course_rating course_difficulty  \\\n",
       "0  PROFESSIONAL CERTIFICATE           4.8          Beginner   \n",
       "1  PROFESSIONAL CERTIFICATE           4.6          Beginner   \n",
       "2            SPECIALIZATION           4.6          Beginner   \n",
       "3            SPECIALIZATION           4.8          Beginner   \n",
       "4            SPECIALIZATION           4.8      Intermediate   \n",
       "\n",
       "  course_students_enrolled                                        course_icon  \\\n",
       "0                     610k  https://d3njjcbhbojbot.cloudfront.net/api/util...   \n",
       "1                     640k  https://d3njjcbhbojbot.cloudfront.net/api/util...   \n",
       "2                     410k  https://d3njjcbhbojbot.cloudfront.net/api/util...   \n",
       "3                       2m  https://d3njjcbhbojbot.cloudfront.net/api/util...   \n",
       "4                     890k  https://d3njjcbhbojbot.cloudfront.net/api/util...   \n",
       "\n",
       "                                       image_name  \\\n",
       "0                     Google IT Support by Google   \n",
       "1                         IBM Data Science by IBM   \n",
       "2             Introduction to Data Science by IBM   \n",
       "3  Python for Everybody by University of Michigan   \n",
       "4                Deep Learning by deeplearning.ai   \n",
       "\n",
       "                                       course_skills course_top_instructor  \\\n",
       "0  [Binary Code, Customer Support, Linux, Trouble...                Google   \n",
       "1  [Data Science, Statistical Analysis, Machine L...                         \n",
       "2  [Data Science, Relational Database Management ...                         \n",
       "3  [Json, Xml, Python Programming, Database (DBMS...           Charles Rus   \n",
       "4  [Tensorflow, Convolutional Neural Network, Art...             Andrew Ng   \n",
       "\n",
       "                                     sub_course_list  \n",
       "0  [1, Technical Support Fundamentals, 2, The Bit...  \n",
       "1  [1, What is Data Science? , 2, Tools for Data ...  \n",
       "2  [1, What is Data Science? , 2, Tools for Data ...  \n",
       "3  [1, Programming for Everybody (Getting Started...  \n",
       "4  [1, Neural Networks and Deep Learning, 2, Impr...  "
      ]
     },
     "execution_count": 216,
     "metadata": {},
     "output_type": "execute_result"
    }
   ],
   "source": [
    "coursera_df.head()"
   ]
  },
  {
   "cell_type": "code",
   "execution_count": 217,
   "metadata": {},
   "outputs": [],
   "source": [
    "coursera_df.to_csv('Coursera_catalog.csv')\n"
   ]
  },
  {
   "cell_type": "code",
   "execution_count": 205,
   "metadata": {},
   "outputs": [
    {
     "name": "stdout",
     "output_type": "stream",
     "text": [
      "Andrew Ng\n"
     ]
    }
   ],
   "source": [
    "#Getting Instructors\n",
    "for urlC in course_URL:\n",
    "    url_course=\"https://www.coursera.org/specializations/deep-learning\"\n",
    "    page_course = requests.get(url_course)\n",
    "    soup_course = BeautifulSoup(page_course.content, 'html.parser')\n",
    "    instructor= soup_course.find('h3', class_ = 'instructor-name headline-3-text bold').get_text()\n",
    "    course_top_instructor.append(instructor[:-14])\n",
    "    \n",
    "    cl= soup_course.find_all('div', class_ = '_jyhj5r CourseItem')\n",
    "    for c in cl:\n",
    "        course_number=c.find('span',class_=\"_1nc68rjl text-secondary d-block m-y-1\").get_text()\n",
    "        course_title=c.find('h3',class_=\"headline-3-text bold m-t-1 m-b-2\").get_text()\n",
    "        course_list.append(course_number)\n",
    "        course_list.append(course_title)\n",
    "    sub_course_list.append(course_list)\n"
   ]
  },
  {
   "cell_type": "code",
   "execution_count": 204,
   "metadata": {},
   "outputs": [
    {
     "name": "stdout",
     "output_type": "stream",
     "text": [
      "['1', 'Neural Networks and Deep Learning', '2', 'Improving Deep Neural Networks: Hyperparameter tuning, Regularization and Optimization', '3', 'Structuring Machine Learning Projects', '4', 'Convolutional Neural Networks', '1', 'Neural Networks and Deep Learning', '2', 'Improving Deep Neural Networks: Hyperparameter tuning, Regularization and Optimization', '3', 'Structuring Machine Learning Projects', '4', 'Convolutional Neural Networks']\n"
     ]
    }
   ],
   "source": [
    "# Getting Course List and details\n",
    "cl= soup_course.find_all('div', class_ = '_jyhj5r CourseItem')\n",
    "for c in cl:\n",
    "    course_number=c.find('span',class_=\"_1nc68rjl text-secondary d-block m-y-1\").get_text()\n",
    "    course_title=c.find('h3',class_=\"headline-3-text bold m-t-1 m-b-2\").get_text()\n",
    "    course_list.append(course_number)\n",
    "    course_list.append(course_title)\n",
    "sub_course_list.append(course_list)"
   ]
  },
  {
   "cell_type": "code",
   "execution_count": 199,
   "metadata": {},
   "outputs": [
    {
     "name": "stdout",
     "output_type": "stream",
     "text": [
      "['ExploreLoupe CopyLoupe CopyFor EnterpriseFor StudentsBrowseTop CoursesLog InJoin for FreeListLoupe Copy', 'Explore', '', 'For Enterprise', 'For Enterprise', 'For Students', 'For Students', 'List', '', '', 'Loupe Copy', '', '', 'Google ', 'Top Instructor', 'Google IT Support Professional CertificateGoogle', 'Google IT Support Professional Certificate', 'Google', 'Binary Code', 'Binary Code', 'Binary Code', 'Customer Support', 'Customer Support', 'Customer Support', 'Linux', 'Linux', 'Linux', 'Troubleshooting', 'Troubleshooting', 'Troubleshooting', 'Domain Name System (DNS)', 'Domain Name System (DNS)', 'Domain Name System (DNS)', 'Ipv4', 'Ipv4', 'Ipv4', 'Network Model', 'Network Model', 'Network Model', 'Powershell', 'Powershell', 'Powershell', 'Linux File Systems', 'Linux File Systems', 'Linux File Systems', 'Command-Line Interface', 'Command-Line Interface', 'Command-Line Interface', 'Directory Service', 'Directory Service', 'Directory Service', 'Lightweight Directory Access Protocol (LDAP)', 'Lightweight Directory Access Protocol (LDAP)', 'Lightweight Directory Access Protocol (LDAP)', 'About this Professional Certificate', 'Subtitles: English, Spanish, Portuguese (Brazilian), Arabic, French, Russian', 'Subtitles: English, Spanish, Portuguese (Brazilian), Arabic, French, Russian', 'There are 5 Courses in this Professional Certificate', '1', '4.8stars', '51,778 ratings', '13,461 reviews', '2', '4.7stars', '20,026 ratings', '4,663 reviews', '3', '4.7stars', '11,383 ratings', '2,186 reviews', '4', '4.7stars', '9,419 ratings', '1,777 reviews', 'Show More', 'Instructor', 'Top Instructor', '', '774,688 Learners', '13 Courses', 'More questions? Visit the Learner Help Center.', '© 2020 Coursera Inc. All rights reserved.']\n"
     ]
    }
   ],
   "source": [
    "# Getting course price\n",
    "url_price=\"https://www.coursera.org/professional-certificates/google-it-support#enrol\"\n",
    "page_price = requests.get(url_price)\n",
    "soup_price = BeautifulSoup(page_price.content, 'html.parser')\n",
    "price= [x.get_text() for x in soup_price.find_all('span')]\n",
    "print(price)\n",
    "# since frice is in a modal-container, there are difficulties faced in scraping it"
   ]
  },
  {
   "cell_type": "code",
   "execution_count": null,
   "metadata": {},
   "outputs": [],
   "source": []
  }
 ],
 "metadata": {
  "kernelspec": {
   "display_name": "Python 3",
   "language": "python",
   "name": "python3"
  },
  "language_info": {
   "codemirror_mode": {
    "name": "ipython",
    "version": 3
   },
   "file_extension": ".py",
   "mimetype": "text/x-python",
   "name": "python",
   "nbconvert_exporter": "python",
   "pygments_lexer": "ipython3",
   "version": "3.8.2"
  }
 },
 "nbformat": 4,
 "nbformat_minor": 4
}
